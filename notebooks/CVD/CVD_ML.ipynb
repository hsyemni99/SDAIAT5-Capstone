{
 "cells": [
  {
   "cell_type": "markdown",
   "id": "7efd0267",
   "metadata": {},
   "source": [
    "## Importing libraries"
   ]
  },
  {
   "cell_type": "code",
   "execution_count": 1,
   "id": "127ddfcf",
   "metadata": {},
   "outputs": [],
   "source": [
    "import pandas as pd\n",
    "import numpy as np\n",
    "from tqdm import tqdm\n",
    "import seaborn as sns\n",
    "from sklearn.preprocessing import LabelEncoder, Normalizer\n",
    "from sklearn.ensemble import AdaBoostClassifier, ExtraTreesClassifier, RandomForestClassifier, GradientBoostingClassifier\n",
    "from sklearn.svm import SVC\n",
    "from sklearn.naive_bayes import GaussianNB\n",
    "from sklearn.neighbors import KNeighborsClassifier\n",
    "from sklearn.model_selection import cross_val_predict\n",
    "from sklearn.pipeline import Pipeline\n",
    "from sklearn.feature_selection import RFE, SelectPercentile, chi2\n",
    "from sklearn.model_selection import train_test_split, RandomizedSearchCV\n",
    "from imblearn.over_sampling import SMOTE\n",
    "import matplotlib.pyplot as plt"
   ]
  },
  {
   "cell_type": "markdown",
   "id": "5fa9337f",
   "metadata": {},
   "source": [
    "## Reading the dataset"
   ]
  },
  {
   "cell_type": "code",
   "execution_count": 2,
   "id": "ef173a77",
   "metadata": {},
   "outputs": [
    {
     "data": {
      "text/html": [
       "<div>\n",
       "<style scoped>\n",
       "    .dataframe tbody tr th:only-of-type {\n",
       "        vertical-align: middle;\n",
       "    }\n",
       "\n",
       "    .dataframe tbody tr th {\n",
       "        vertical-align: top;\n",
       "    }\n",
       "\n",
       "    .dataframe thead th {\n",
       "        text-align: right;\n",
       "    }\n",
       "</style>\n",
       "<table border=\"1\" class=\"dataframe\">\n",
       "  <thead>\n",
       "    <tr style=\"text-align: right;\">\n",
       "      <th></th>\n",
       "      <th>id</th>\n",
       "      <th>age</th>\n",
       "      <th>gender</th>\n",
       "      <th>height</th>\n",
       "      <th>weight</th>\n",
       "      <th>ap_hi</th>\n",
       "      <th>ap_lo</th>\n",
       "      <th>cholesterol</th>\n",
       "      <th>gluc</th>\n",
       "      <th>smoke</th>\n",
       "      <th>alco</th>\n",
       "      <th>active</th>\n",
       "      <th>cardio</th>\n",
       "      <th>age_years</th>\n",
       "      <th>bmi</th>\n",
       "      <th>bp_category</th>\n",
       "      <th>bp_category_encoded</th>\n",
       "    </tr>\n",
       "  </thead>\n",
       "  <tbody>\n",
       "    <tr>\n",
       "      <th>0</th>\n",
       "      <td>0</td>\n",
       "      <td>18393</td>\n",
       "      <td>2</td>\n",
       "      <td>168</td>\n",
       "      <td>62.0</td>\n",
       "      <td>110</td>\n",
       "      <td>80</td>\n",
       "      <td>1</td>\n",
       "      <td>1</td>\n",
       "      <td>0</td>\n",
       "      <td>0</td>\n",
       "      <td>1</td>\n",
       "      <td>0</td>\n",
       "      <td>50</td>\n",
       "      <td>21.967120</td>\n",
       "      <td>Hypertension Stage 1</td>\n",
       "      <td>Hypertension Stage 1</td>\n",
       "    </tr>\n",
       "    <tr>\n",
       "      <th>1</th>\n",
       "      <td>1</td>\n",
       "      <td>20228</td>\n",
       "      <td>1</td>\n",
       "      <td>156</td>\n",
       "      <td>85.0</td>\n",
       "      <td>140</td>\n",
       "      <td>90</td>\n",
       "      <td>3</td>\n",
       "      <td>1</td>\n",
       "      <td>0</td>\n",
       "      <td>0</td>\n",
       "      <td>1</td>\n",
       "      <td>1</td>\n",
       "      <td>55</td>\n",
       "      <td>34.927679</td>\n",
       "      <td>Hypertension Stage 2</td>\n",
       "      <td>Hypertension Stage 2</td>\n",
       "    </tr>\n",
       "    <tr>\n",
       "      <th>2</th>\n",
       "      <td>2</td>\n",
       "      <td>18857</td>\n",
       "      <td>1</td>\n",
       "      <td>165</td>\n",
       "      <td>64.0</td>\n",
       "      <td>130</td>\n",
       "      <td>70</td>\n",
       "      <td>3</td>\n",
       "      <td>1</td>\n",
       "      <td>0</td>\n",
       "      <td>0</td>\n",
       "      <td>0</td>\n",
       "      <td>1</td>\n",
       "      <td>51</td>\n",
       "      <td>23.507805</td>\n",
       "      <td>Hypertension Stage 1</td>\n",
       "      <td>Hypertension Stage 1</td>\n",
       "    </tr>\n",
       "    <tr>\n",
       "      <th>3</th>\n",
       "      <td>3</td>\n",
       "      <td>17623</td>\n",
       "      <td>2</td>\n",
       "      <td>169</td>\n",
       "      <td>82.0</td>\n",
       "      <td>150</td>\n",
       "      <td>100</td>\n",
       "      <td>1</td>\n",
       "      <td>1</td>\n",
       "      <td>0</td>\n",
       "      <td>0</td>\n",
       "      <td>1</td>\n",
       "      <td>1</td>\n",
       "      <td>48</td>\n",
       "      <td>28.710479</td>\n",
       "      <td>Hypertension Stage 2</td>\n",
       "      <td>Hypertension Stage 2</td>\n",
       "    </tr>\n",
       "    <tr>\n",
       "      <th>4</th>\n",
       "      <td>4</td>\n",
       "      <td>17474</td>\n",
       "      <td>1</td>\n",
       "      <td>156</td>\n",
       "      <td>56.0</td>\n",
       "      <td>100</td>\n",
       "      <td>60</td>\n",
       "      <td>1</td>\n",
       "      <td>1</td>\n",
       "      <td>0</td>\n",
       "      <td>0</td>\n",
       "      <td>0</td>\n",
       "      <td>0</td>\n",
       "      <td>47</td>\n",
       "      <td>23.011177</td>\n",
       "      <td>Normal</td>\n",
       "      <td>Normal</td>\n",
       "    </tr>\n",
       "  </tbody>\n",
       "</table>\n",
       "</div>"
      ],
      "text/plain": [
       "   id    age  gender  height  weight  ap_hi  ap_lo  cholesterol  gluc  smoke  \\\n",
       "0   0  18393       2     168    62.0    110     80            1     1      0   \n",
       "1   1  20228       1     156    85.0    140     90            3     1      0   \n",
       "2   2  18857       1     165    64.0    130     70            3     1      0   \n",
       "3   3  17623       2     169    82.0    150    100            1     1      0   \n",
       "4   4  17474       1     156    56.0    100     60            1     1      0   \n",
       "\n",
       "   alco  active  cardio  age_years        bmi           bp_category  \\\n",
       "0     0       1       0         50  21.967120  Hypertension Stage 1   \n",
       "1     0       1       1         55  34.927679  Hypertension Stage 2   \n",
       "2     0       0       1         51  23.507805  Hypertension Stage 1   \n",
       "3     0       1       1         48  28.710479  Hypertension Stage 2   \n",
       "4     0       0       0         47  23.011177                Normal   \n",
       "\n",
       "    bp_category_encoded  \n",
       "0  Hypertension Stage 1  \n",
       "1  Hypertension Stage 2  \n",
       "2  Hypertension Stage 1  \n",
       "3  Hypertension Stage 2  \n",
       "4                Normal  "
      ]
     },
     "execution_count": 2,
     "metadata": {},
     "output_type": "execute_result"
    }
   ],
   "source": [
    "df = pd.read_csv(\"cardio_data_processed.csv\")\n",
    "df.head()"
   ]
  },
  {
   "cell_type": "markdown",
   "id": "bec5676b",
   "metadata": {},
   "source": [
    "## Statistical Analysis"
   ]
  },
  {
   "cell_type": "code",
   "execution_count": 3,
   "id": "dac7b4ae",
   "metadata": {},
   "outputs": [
    {
     "name": "stdout",
     "output_type": "stream",
     "text": [
      "<class 'pandas.core.frame.DataFrame'>\n",
      "RangeIndex: 68205 entries, 0 to 68204\n",
      "Data columns (total 17 columns):\n",
      " #   Column               Non-Null Count  Dtype  \n",
      "---  ------               --------------  -----  \n",
      " 0   id                   68205 non-null  int64  \n",
      " 1   age                  68205 non-null  int64  \n",
      " 2   gender               68205 non-null  int64  \n",
      " 3   height               68205 non-null  int64  \n",
      " 4   weight               68205 non-null  float64\n",
      " 5   ap_hi                68205 non-null  int64  \n",
      " 6   ap_lo                68205 non-null  int64  \n",
      " 7   cholesterol          68205 non-null  int64  \n",
      " 8   gluc                 68205 non-null  int64  \n",
      " 9   smoke                68205 non-null  int64  \n",
      " 10  alco                 68205 non-null  int64  \n",
      " 11  active               68205 non-null  int64  \n",
      " 12  cardio               68205 non-null  int64  \n",
      " 13  age_years            68205 non-null  int64  \n",
      " 14  bmi                  68205 non-null  float64\n",
      " 15  bp_category          68205 non-null  object \n",
      " 16  bp_category_encoded  68205 non-null  object \n",
      "dtypes: float64(2), int64(13), object(2)\n",
      "memory usage: 8.8+ MB\n"
     ]
    }
   ],
   "source": [
    "df.info()"
   ]
  },
  {
   "cell_type": "markdown",
   "id": "cfce0437",
   "metadata": {},
   "source": [
    "* ID: Unique identifier for each patient.\n",
    "* age: Age of the patient in days.\n",
    "* age_years: Age of the patient in years (derived from age).\n",
    "* gender: Gender of the patient. Categorical variable (1: Female, 2: Male).\n",
    "* height: Height of the patient in centimeters.\n",
    "* weight: Weight of the patient in kilograms.\n",
    "* ap_hi: Systolic blood pressure.\n",
    "* ap_lo: Diastolic blood pressure.\n",
    "* cholesterol: Cholesterol levels. Categorical variable (1: Normal, 2: Above Normal, 3: Well Above Normal).\n",
    "* gluc: Glucose levels. Categorical variable (1: Normal, 2: Above Normal, 3: Well Above Normal).\n",
    "* smoke: Smoking status. Binary variable (0: Non-smoker, 1: Smoker).\n",
    "* alco: Alcohol intake. Binary variable (0: Does not consume alcohol, 1: Consumes alcohol).\n",
    "* active: Physical activity. Binary variable (0: Not physically active, 1: Physically active).\n",
    "* cardio: Presence or absence of cardiovascular disease. Target variable. Binary (0: Absence, 1: Presence).\n",
    "* bmi: Body Mass Index, derived from weight and height. Calculated as BMI = weight (kg) / height (m)^2\n",
    "* bp_category: Blood pressure category based on ap_hi and ap_lo. Categories include \"Normal\", \"Elevated\", \"Hypertension Stage 1\", \"Hypertension Stage 2\", and \"Hypertensive Crisis\".\n",
    "* bp_category_encoded: Encoded form of bp_category for machine learning purposes.\n"
   ]
  },
  {
   "cell_type": "code",
   "execution_count": 4,
   "id": "71c5675d",
   "metadata": {},
   "outputs": [
    {
     "data": {
      "text/html": [
       "<div>\n",
       "<style scoped>\n",
       "    .dataframe tbody tr th:only-of-type {\n",
       "        vertical-align: middle;\n",
       "    }\n",
       "\n",
       "    .dataframe tbody tr th {\n",
       "        vertical-align: top;\n",
       "    }\n",
       "\n",
       "    .dataframe thead th {\n",
       "        text-align: right;\n",
       "    }\n",
       "</style>\n",
       "<table border=\"1\" class=\"dataframe\">\n",
       "  <thead>\n",
       "    <tr style=\"text-align: right;\">\n",
       "      <th></th>\n",
       "      <th>count</th>\n",
       "      <th>mean</th>\n",
       "      <th>std</th>\n",
       "      <th>min</th>\n",
       "      <th>25%</th>\n",
       "      <th>50%</th>\n",
       "      <th>75%</th>\n",
       "      <th>max</th>\n",
       "    </tr>\n",
       "  </thead>\n",
       "  <tbody>\n",
       "    <tr>\n",
       "      <th>id</th>\n",
       "      <td>68205.0</td>\n",
       "      <td>49972.410498</td>\n",
       "      <td>28852.138290</td>\n",
       "      <td>0.000000</td>\n",
       "      <td>24991.000000</td>\n",
       "      <td>50008.000000</td>\n",
       "      <td>74878.000000</td>\n",
       "      <td>99999.000000</td>\n",
       "    </tr>\n",
       "    <tr>\n",
       "      <th>age</th>\n",
       "      <td>68205.0</td>\n",
       "      <td>19462.667737</td>\n",
       "      <td>2468.381854</td>\n",
       "      <td>10798.000000</td>\n",
       "      <td>17656.000000</td>\n",
       "      <td>19700.000000</td>\n",
       "      <td>21323.000000</td>\n",
       "      <td>23713.000000</td>\n",
       "    </tr>\n",
       "    <tr>\n",
       "      <th>gender</th>\n",
       "      <td>68205.0</td>\n",
       "      <td>1.348625</td>\n",
       "      <td>0.476539</td>\n",
       "      <td>1.000000</td>\n",
       "      <td>1.000000</td>\n",
       "      <td>1.000000</td>\n",
       "      <td>2.000000</td>\n",
       "      <td>2.000000</td>\n",
       "    </tr>\n",
       "    <tr>\n",
       "      <th>height</th>\n",
       "      <td>68205.0</td>\n",
       "      <td>164.372861</td>\n",
       "      <td>8.176756</td>\n",
       "      <td>55.000000</td>\n",
       "      <td>159.000000</td>\n",
       "      <td>165.000000</td>\n",
       "      <td>170.000000</td>\n",
       "      <td>250.000000</td>\n",
       "    </tr>\n",
       "    <tr>\n",
       "      <th>weight</th>\n",
       "      <td>68205.0</td>\n",
       "      <td>74.100688</td>\n",
       "      <td>14.288862</td>\n",
       "      <td>11.000000</td>\n",
       "      <td>65.000000</td>\n",
       "      <td>72.000000</td>\n",
       "      <td>82.000000</td>\n",
       "      <td>200.000000</td>\n",
       "    </tr>\n",
       "    <tr>\n",
       "      <th>ap_hi</th>\n",
       "      <td>68205.0</td>\n",
       "      <td>126.434924</td>\n",
       "      <td>15.961685</td>\n",
       "      <td>90.000000</td>\n",
       "      <td>120.000000</td>\n",
       "      <td>120.000000</td>\n",
       "      <td>140.000000</td>\n",
       "      <td>180.000000</td>\n",
       "    </tr>\n",
       "    <tr>\n",
       "      <th>ap_lo</th>\n",
       "      <td>68205.0</td>\n",
       "      <td>81.263925</td>\n",
       "      <td>9.143985</td>\n",
       "      <td>60.000000</td>\n",
       "      <td>80.000000</td>\n",
       "      <td>80.000000</td>\n",
       "      <td>90.000000</td>\n",
       "      <td>120.000000</td>\n",
       "    </tr>\n",
       "    <tr>\n",
       "      <th>cholesterol</th>\n",
       "      <td>68205.0</td>\n",
       "      <td>1.363243</td>\n",
       "      <td>0.678080</td>\n",
       "      <td>1.000000</td>\n",
       "      <td>1.000000</td>\n",
       "      <td>1.000000</td>\n",
       "      <td>1.000000</td>\n",
       "      <td>3.000000</td>\n",
       "    </tr>\n",
       "    <tr>\n",
       "      <th>gluc</th>\n",
       "      <td>68205.0</td>\n",
       "      <td>1.225174</td>\n",
       "      <td>0.571288</td>\n",
       "      <td>1.000000</td>\n",
       "      <td>1.000000</td>\n",
       "      <td>1.000000</td>\n",
       "      <td>1.000000</td>\n",
       "      <td>3.000000</td>\n",
       "    </tr>\n",
       "    <tr>\n",
       "      <th>smoke</th>\n",
       "      <td>68205.0</td>\n",
       "      <td>0.087662</td>\n",
       "      <td>0.282805</td>\n",
       "      <td>0.000000</td>\n",
       "      <td>0.000000</td>\n",
       "      <td>0.000000</td>\n",
       "      <td>0.000000</td>\n",
       "      <td>1.000000</td>\n",
       "    </tr>\n",
       "    <tr>\n",
       "      <th>alco</th>\n",
       "      <td>68205.0</td>\n",
       "      <td>0.053134</td>\n",
       "      <td>0.224302</td>\n",
       "      <td>0.000000</td>\n",
       "      <td>0.000000</td>\n",
       "      <td>0.000000</td>\n",
       "      <td>0.000000</td>\n",
       "      <td>1.000000</td>\n",
       "    </tr>\n",
       "    <tr>\n",
       "      <th>active</th>\n",
       "      <td>68205.0</td>\n",
       "      <td>0.803548</td>\n",
       "      <td>0.397317</td>\n",
       "      <td>0.000000</td>\n",
       "      <td>1.000000</td>\n",
       "      <td>1.000000</td>\n",
       "      <td>1.000000</td>\n",
       "      <td>1.000000</td>\n",
       "    </tr>\n",
       "    <tr>\n",
       "      <th>cardio</th>\n",
       "      <td>68205.0</td>\n",
       "      <td>0.493688</td>\n",
       "      <td>0.499964</td>\n",
       "      <td>0.000000</td>\n",
       "      <td>0.000000</td>\n",
       "      <td>0.000000</td>\n",
       "      <td>1.000000</td>\n",
       "      <td>1.000000</td>\n",
       "    </tr>\n",
       "    <tr>\n",
       "      <th>age_years</th>\n",
       "      <td>68205.0</td>\n",
       "      <td>52.823635</td>\n",
       "      <td>6.769909</td>\n",
       "      <td>29.000000</td>\n",
       "      <td>48.000000</td>\n",
       "      <td>53.000000</td>\n",
       "      <td>58.000000</td>\n",
       "      <td>64.000000</td>\n",
       "    </tr>\n",
       "    <tr>\n",
       "      <th>bmi</th>\n",
       "      <td>68205.0</td>\n",
       "      <td>27.510513</td>\n",
       "      <td>6.026497</td>\n",
       "      <td>3.471784</td>\n",
       "      <td>23.875115</td>\n",
       "      <td>26.346494</td>\n",
       "      <td>30.116213</td>\n",
       "      <td>298.666667</td>\n",
       "    </tr>\n",
       "  </tbody>\n",
       "</table>\n",
       "</div>"
      ],
      "text/plain": [
       "               count          mean           std           min           25%  \\\n",
       "id           68205.0  49972.410498  28852.138290      0.000000  24991.000000   \n",
       "age          68205.0  19462.667737   2468.381854  10798.000000  17656.000000   \n",
       "gender       68205.0      1.348625      0.476539      1.000000      1.000000   \n",
       "height       68205.0    164.372861      8.176756     55.000000    159.000000   \n",
       "weight       68205.0     74.100688     14.288862     11.000000     65.000000   \n",
       "ap_hi        68205.0    126.434924     15.961685     90.000000    120.000000   \n",
       "ap_lo        68205.0     81.263925      9.143985     60.000000     80.000000   \n",
       "cholesterol  68205.0      1.363243      0.678080      1.000000      1.000000   \n",
       "gluc         68205.0      1.225174      0.571288      1.000000      1.000000   \n",
       "smoke        68205.0      0.087662      0.282805      0.000000      0.000000   \n",
       "alco         68205.0      0.053134      0.224302      0.000000      0.000000   \n",
       "active       68205.0      0.803548      0.397317      0.000000      1.000000   \n",
       "cardio       68205.0      0.493688      0.499964      0.000000      0.000000   \n",
       "age_years    68205.0     52.823635      6.769909     29.000000     48.000000   \n",
       "bmi          68205.0     27.510513      6.026497      3.471784     23.875115   \n",
       "\n",
       "                      50%           75%           max  \n",
       "id           50008.000000  74878.000000  99999.000000  \n",
       "age          19700.000000  21323.000000  23713.000000  \n",
       "gender           1.000000      2.000000      2.000000  \n",
       "height         165.000000    170.000000    250.000000  \n",
       "weight          72.000000     82.000000    200.000000  \n",
       "ap_hi          120.000000    140.000000    180.000000  \n",
       "ap_lo           80.000000     90.000000    120.000000  \n",
       "cholesterol      1.000000      1.000000      3.000000  \n",
       "gluc             1.000000      1.000000      3.000000  \n",
       "smoke            0.000000      0.000000      1.000000  \n",
       "alco             0.000000      0.000000      1.000000  \n",
       "active           1.000000      1.000000      1.000000  \n",
       "cardio           0.000000      1.000000      1.000000  \n",
       "age_years       53.000000     58.000000     64.000000  \n",
       "bmi             26.346494     30.116213    298.666667  "
      ]
     },
     "execution_count": 4,
     "metadata": {},
     "output_type": "execute_result"
    }
   ],
   "source": [
    "df.describe().T"
   ]
  },
  {
   "cell_type": "code",
   "execution_count": 5,
   "id": "c49ccc8e",
   "metadata": {},
   "outputs": [
    {
     "data": {
      "text/plain": [
       "0"
      ]
     },
     "execution_count": 5,
     "metadata": {},
     "output_type": "execute_result"
    }
   ],
   "source": [
    "df.duplicated().sum()"
   ]
  },
  {
   "cell_type": "code",
   "execution_count": 6,
   "id": "d40c1902",
   "metadata": {},
   "outputs": [
    {
     "data": {
      "text/plain": [
       "0"
      ]
     },
     "execution_count": 6,
     "metadata": {},
     "output_type": "execute_result"
    }
   ],
   "source": [
    "df.isna().sum().sum()"
   ]
  },
  {
   "cell_type": "code",
   "execution_count": 7,
   "id": "2b823401",
   "metadata": {},
   "outputs": [
    {
     "data": {
      "text/plain": [
       "<bound method Series.unique of bp_category\n",
       "Hypertension Stage 1    39750\n",
       "Hypertension Stage 2    15937\n",
       "Normal                   9417\n",
       "Elevated                 3101\n",
       "Name: count, dtype: int64>"
      ]
     },
     "execution_count": 7,
     "metadata": {},
     "output_type": "execute_result"
    }
   ],
   "source": [
    "df['bp_category'].value_counts().unique"
   ]
  },
  {
   "cell_type": "code",
   "execution_count": 8,
   "id": "44d19c98",
   "metadata": {},
   "outputs": [
    {
     "data": {
      "text/plain": [
       "<AxesSubplot:ylabel='bp_category'>"
      ]
     },
     "execution_count": 8,
     "metadata": {},
     "output_type": "execute_result"
    },
    {
     "data": {
      "image/png": "[encoded data removed]",
      "text/plain": [
       "<Figure size 640x480 with 1 Axes>"
      ]
     },
     "metadata": {},
     "output_type": "display_data"
    }
   ],
   "source": [
    "df['bp_category'].value_counts().sort_values().plot(kind = 'barh')"
   ]
  },
  {
   "cell_type": "code",
   "execution_count": 9,
   "id": "dc7f4494",
   "metadata": {},
   "outputs": [
    {
     "data": {
      "text/plain": [
       "<bound method Series.unique of bp_category_encoded\n",
       "Hypertension Stage 1    39750\n",
       "Hypertension Stage 2    15937\n",
       "Normal                   9417\n",
       "Elevated                 3101\n",
       "Name: count, dtype: int64>"
      ]
     },
     "execution_count": 9,
     "metadata": {},
     "output_type": "execute_result"
    }
   ],
   "source": [
    "df['bp_category_encoded'].value_counts().unique"
   ]
  },
  {
   "cell_type": "code",
   "execution_count": 10,
   "id": "98839f4b",
   "metadata": {},
   "outputs": [
    {
     "data": {
      "text/plain": [
       "<AxesSubplot:ylabel='bp_category_encoded'>"
      ]
     },
     "execution_count": 10,
     "metadata": {},
     "output_type": "execute_result"
    },
    {
     "data": {
      "image/png": "[encoded data removed]",
      "text/plain": [
       "<Figure size 640x480 with 1 Axes>"
      ]
     },
     "metadata": {},
     "output_type": "display_data"
    }
   ],
   "source": [
    "df['bp_category_encoded'].value_counts().sort_values().plot(kind = 'barh', )"
   ]
  },
  {
   "cell_type": "code",
   "execution_count": 11,
   "id": "e2a2f702",
   "metadata": {},
   "outputs": [
    {
     "data": {
      "text/plain": [
       "<bound method Series.unique of cardio\n",
       "0    34533\n",
       "1    33672\n",
       "Name: count, dtype: int64>"
      ]
     },
     "execution_count": 11,
     "metadata": {},
     "output_type": "execute_result"
    }
   ],
   "source": [
    "df['cardio'].value_counts().unique"
   ]
  },
  {
   "cell_type": "code",
   "execution_count": 12,
   "id": "4607c661",
   "metadata": {},
   "outputs": [
    {
     "data": {
      "text/plain": [
       "<AxesSubplot:ylabel='cardio'>"
      ]
     },
     "execution_count": 12,
     "metadata": {},
     "output_type": "execute_result"
    },
    {
     "data": {
      "image/png": "[encoded data removed]",
      "text/plain": [
       "<Figure size 640x480 with 1 Axes>"
      ]
     },
     "metadata": {},
     "output_type": "display_data"
    }
   ],
   "source": [
    "df['cardio'].value_counts().sort_values().plot(kind = 'barh', )"
   ]
  },
  {
   "cell_type": "markdown",
   "id": "8b840800",
   "metadata": {},
   "source": [
    "There is an imbalance in the classes. We can experiment with using Synthetic Minority Oversampling Technique (SMOTE) to solve this imbalance."
   ]
  },
  {
   "cell_type": "code",
   "execution_count": 13,
   "id": "75acdf6c",
   "metadata": {},
   "outputs": [
    {
     "data": {
      "text/plain": [
       "True    68205\n",
       "Name: count, dtype: int64"
      ]
     },
     "execution_count": 13,
     "metadata": {},
     "output_type": "execute_result"
    }
   ],
   "source": [
    "pd.Series(df['bp_category'] == df['bp_category_encoded']).value_counts()"
   ]
  },
  {
   "cell_type": "code",
   "execution_count": 14,
   "id": "52bf5f21",
   "metadata": {},
   "outputs": [],
   "source": [
    "df['age_years'] = df['age'] / 365\n",
    "df = df.drop(['id', 'age', 'bp_category_encoded'], axis = 1)"
   ]
  },
  {
   "cell_type": "code",
   "execution_count": 15,
   "id": "36d744d7",
   "metadata": {},
   "outputs": [],
   "source": [
    "LE = LabelEncoder()\n",
    "Encoded_labels = LE.fit_transform(df['bp_category'])\n",
    "df['bp_category_encoded'] = Encoded_labels "
   ]
  },
  {
   "cell_type": "code",
   "execution_count": 16,
   "id": "47ff6d00",
   "metadata": {},
   "outputs": [
    {
     "data": {
      "text/plain": [
       "array(['Elevated', 'Hypertension Stage 1', 'Hypertension Stage 2',\n",
       "       'Normal'], dtype=object)"
      ]
     },
     "execution_count": 16,
     "metadata": {},
     "output_type": "execute_result"
    }
   ],
   "source": [
    "bp_types = LE.classes_\n",
    "bp_types"
   ]
  },
  {
   "cell_type": "code",
   "execution_count": 17,
   "id": "190b9e6c",
   "metadata": {},
   "outputs": [
    {
     "data": {
      "text/html": [
       "<div>\n",
       "<style scoped>\n",
       "    .dataframe tbody tr th:only-of-type {\n",
       "        vertical-align: middle;\n",
       "    }\n",
       "\n",
       "    .dataframe tbody tr th {\n",
       "        vertical-align: top;\n",
       "    }\n",
       "\n",
       "    .dataframe thead th {\n",
       "        text-align: right;\n",
       "    }\n",
       "</style>\n",
       "<table border=\"1\" class=\"dataframe\">\n",
       "  <thead>\n",
       "    <tr style=\"text-align: right;\">\n",
       "      <th></th>\n",
       "      <th>gender</th>\n",
       "      <th>height</th>\n",
       "      <th>weight</th>\n",
       "      <th>ap_hi</th>\n",
       "      <th>ap_lo</th>\n",
       "      <th>cholesterol</th>\n",
       "      <th>gluc</th>\n",
       "      <th>smoke</th>\n",
       "      <th>alco</th>\n",
       "      <th>active</th>\n",
       "      <th>cardio</th>\n",
       "      <th>age_years</th>\n",
       "      <th>bmi</th>\n",
       "      <th>bp_category</th>\n",
       "      <th>bp_category_encoded</th>\n",
       "    </tr>\n",
       "  </thead>\n",
       "  <tbody>\n",
       "    <tr>\n",
       "      <th>0</th>\n",
       "      <td>2</td>\n",
       "      <td>168</td>\n",
       "      <td>62.0</td>\n",
       "      <td>110</td>\n",
       "      <td>80</td>\n",
       "      <td>1</td>\n",
       "      <td>1</td>\n",
       "      <td>0</td>\n",
       "      <td>0</td>\n",
       "      <td>1</td>\n",
       "      <td>0</td>\n",
       "      <td>50.391781</td>\n",
       "      <td>21.967120</td>\n",
       "      <td>Hypertension Stage 1</td>\n",
       "      <td>1</td>\n",
       "    </tr>\n",
       "    <tr>\n",
       "      <th>1</th>\n",
       "      <td>1</td>\n",
       "      <td>156</td>\n",
       "      <td>85.0</td>\n",
       "      <td>140</td>\n",
       "      <td>90</td>\n",
       "      <td>3</td>\n",
       "      <td>1</td>\n",
       "      <td>0</td>\n",
       "      <td>0</td>\n",
       "      <td>1</td>\n",
       "      <td>1</td>\n",
       "      <td>55.419178</td>\n",
       "      <td>34.927679</td>\n",
       "      <td>Hypertension Stage 2</td>\n",
       "      <td>2</td>\n",
       "    </tr>\n",
       "    <tr>\n",
       "      <th>2</th>\n",
       "      <td>1</td>\n",
       "      <td>165</td>\n",
       "      <td>64.0</td>\n",
       "      <td>130</td>\n",
       "      <td>70</td>\n",
       "      <td>3</td>\n",
       "      <td>1</td>\n",
       "      <td>0</td>\n",
       "      <td>0</td>\n",
       "      <td>0</td>\n",
       "      <td>1</td>\n",
       "      <td>51.663014</td>\n",
       "      <td>23.507805</td>\n",
       "      <td>Hypertension Stage 1</td>\n",
       "      <td>1</td>\n",
       "    </tr>\n",
       "    <tr>\n",
       "      <th>3</th>\n",
       "      <td>2</td>\n",
       "      <td>169</td>\n",
       "      <td>82.0</td>\n",
       "      <td>150</td>\n",
       "      <td>100</td>\n",
       "      <td>1</td>\n",
       "      <td>1</td>\n",
       "      <td>0</td>\n",
       "      <td>0</td>\n",
       "      <td>1</td>\n",
       "      <td>1</td>\n",
       "      <td>48.282192</td>\n",
       "      <td>28.710479</td>\n",
       "      <td>Hypertension Stage 2</td>\n",
       "      <td>2</td>\n",
       "    </tr>\n",
       "    <tr>\n",
       "      <th>4</th>\n",
       "      <td>1</td>\n",
       "      <td>156</td>\n",
       "      <td>56.0</td>\n",
       "      <td>100</td>\n",
       "      <td>60</td>\n",
       "      <td>1</td>\n",
       "      <td>1</td>\n",
       "      <td>0</td>\n",
       "      <td>0</td>\n",
       "      <td>0</td>\n",
       "      <td>0</td>\n",
       "      <td>47.873973</td>\n",
       "      <td>23.011177</td>\n",
       "      <td>Normal</td>\n",
       "      <td>3</td>\n",
       "    </tr>\n",
       "  </tbody>\n",
       "</table>\n",
       "</div>"
      ],
      "text/plain": [
       "   gender  height  weight  ap_hi  ap_lo  cholesterol  gluc  smoke  alco  \\\n",
       "0       2     168    62.0    110     80            1     1      0     0   \n",
       "1       1     156    85.0    140     90            3     1      0     0   \n",
       "2       1     165    64.0    130     70            3     1      0     0   \n",
       "3       2     169    82.0    150    100            1     1      0     0   \n",
       "4       1     156    56.0    100     60            1     1      0     0   \n",
       "\n",
       "   active  cardio  age_years        bmi           bp_category  \\\n",
       "0       1       0  50.391781  21.967120  Hypertension Stage 1   \n",
       "1       1       1  55.419178  34.927679  Hypertension Stage 2   \n",
       "2       0       1  51.663014  23.507805  Hypertension Stage 1   \n",
       "3       1       1  48.282192  28.710479  Hypertension Stage 2   \n",
       "4       0       0  47.873973  23.011177                Normal   \n",
       "\n",
       "   bp_category_encoded  \n",
       "0                    1  \n",
       "1                    2  \n",
       "2                    1  \n",
       "3                    2  \n",
       "4                    3  "
      ]
     },
     "execution_count": 17,
     "metadata": {},
     "output_type": "execute_result"
    }
   ],
   "source": [
    "df.head()"
   ]
  },
  {
   "cell_type": "code",
   "execution_count": 18,
   "id": "8647cf7d",
   "metadata": {},
   "outputs": [
    {
     "data": {
      "text/plain": [
       "<bound method Series.unique of 1    39750\n",
       "2    15937\n",
       "3     9417\n",
       "0     3101\n",
       "Name: count, dtype: int64>"
      ]
     },
     "execution_count": 18,
     "metadata": {},
     "output_type": "execute_result"
    }
   ],
   "source": [
    "pd.Series(Encoded_labels).value_counts().unique"
   ]
  },
  {
   "cell_type": "code",
   "execution_count": 19,
   "id": "e87c1c86",
   "metadata": {},
   "outputs": [
    {
     "data": {
      "text/html": [
       "<div>\n",
       "<style scoped>\n",
       "    .dataframe tbody tr th:only-of-type {\n",
       "        vertical-align: middle;\n",
       "    }\n",
       "\n",
       "    .dataframe tbody tr th {\n",
       "        vertical-align: top;\n",
       "    }\n",
       "\n",
       "    .dataframe thead th {\n",
       "        text-align: right;\n",
       "    }\n",
       "</style>\n",
       "<table border=\"1\" class=\"dataframe\">\n",
       "  <thead>\n",
       "    <tr style=\"text-align: right;\">\n",
       "      <th></th>\n",
       "      <th>gender</th>\n",
       "      <th>height</th>\n",
       "      <th>weight</th>\n",
       "      <th>ap_hi</th>\n",
       "      <th>ap_lo</th>\n",
       "      <th>cholesterol</th>\n",
       "      <th>gluc</th>\n",
       "      <th>smoke</th>\n",
       "      <th>alco</th>\n",
       "      <th>active</th>\n",
       "      <th>cardio</th>\n",
       "      <th>age_years</th>\n",
       "      <th>bmi</th>\n",
       "      <th>bp_category_encoded</th>\n",
       "    </tr>\n",
       "  </thead>\n",
       "  <tbody>\n",
       "    <tr>\n",
       "      <th>0</th>\n",
       "      <td>2</td>\n",
       "      <td>168</td>\n",
       "      <td>62.0</td>\n",
       "      <td>110</td>\n",
       "      <td>80</td>\n",
       "      <td>1</td>\n",
       "      <td>1</td>\n",
       "      <td>0</td>\n",
       "      <td>0</td>\n",
       "      <td>1</td>\n",
       "      <td>0</td>\n",
       "      <td>50.391781</td>\n",
       "      <td>21.967120</td>\n",
       "      <td>1</td>\n",
       "    </tr>\n",
       "    <tr>\n",
       "      <th>1</th>\n",
       "      <td>1</td>\n",
       "      <td>156</td>\n",
       "      <td>85.0</td>\n",
       "      <td>140</td>\n",
       "      <td>90</td>\n",
       "      <td>3</td>\n",
       "      <td>1</td>\n",
       "      <td>0</td>\n",
       "      <td>0</td>\n",
       "      <td>1</td>\n",
       "      <td>1</td>\n",
       "      <td>55.419178</td>\n",
       "      <td>34.927679</td>\n",
       "      <td>2</td>\n",
       "    </tr>\n",
       "    <tr>\n",
       "      <th>2</th>\n",
       "      <td>1</td>\n",
       "      <td>165</td>\n",
       "      <td>64.0</td>\n",
       "      <td>130</td>\n",
       "      <td>70</td>\n",
       "      <td>3</td>\n",
       "      <td>1</td>\n",
       "      <td>0</td>\n",
       "      <td>0</td>\n",
       "      <td>0</td>\n",
       "      <td>1</td>\n",
       "      <td>51.663014</td>\n",
       "      <td>23.507805</td>\n",
       "      <td>1</td>\n",
       "    </tr>\n",
       "    <tr>\n",
       "      <th>3</th>\n",
       "      <td>2</td>\n",
       "      <td>169</td>\n",
       "      <td>82.0</td>\n",
       "      <td>150</td>\n",
       "      <td>100</td>\n",
       "      <td>1</td>\n",
       "      <td>1</td>\n",
       "      <td>0</td>\n",
       "      <td>0</td>\n",
       "      <td>1</td>\n",
       "      <td>1</td>\n",
       "      <td>48.282192</td>\n",
       "      <td>28.710479</td>\n",
       "      <td>2</td>\n",
       "    </tr>\n",
       "    <tr>\n",
       "      <th>4</th>\n",
       "      <td>1</td>\n",
       "      <td>156</td>\n",
       "      <td>56.0</td>\n",
       "      <td>100</td>\n",
       "      <td>60</td>\n",
       "      <td>1</td>\n",
       "      <td>1</td>\n",
       "      <td>0</td>\n",
       "      <td>0</td>\n",
       "      <td>0</td>\n",
       "      <td>0</td>\n",
       "      <td>47.873973</td>\n",
       "      <td>23.011177</td>\n",
       "      <td>3</td>\n",
       "    </tr>\n",
       "  </tbody>\n",
       "</table>\n",
       "</div>"
      ],
      "text/plain": [
       "   gender  height  weight  ap_hi  ap_lo  cholesterol  gluc  smoke  alco  \\\n",
       "0       2     168    62.0    110     80            1     1      0     0   \n",
       "1       1     156    85.0    140     90            3     1      0     0   \n",
       "2       1     165    64.0    130     70            3     1      0     0   \n",
       "3       2     169    82.0    150    100            1     1      0     0   \n",
       "4       1     156    56.0    100     60            1     1      0     0   \n",
       "\n",
       "   active  cardio  age_years        bmi  bp_category_encoded  \n",
       "0       1       0  50.391781  21.967120                    1  \n",
       "1       1       1  55.419178  34.927679                    2  \n",
       "2       0       1  51.663014  23.507805                    1  \n",
       "3       1       1  48.282192  28.710479                    2  \n",
       "4       0       0  47.873973  23.011177                    3  "
      ]
     },
     "execution_count": 19,
     "metadata": {},
     "output_type": "execute_result"
    }
   ],
   "source": [
    "df = df.drop(['bp_category'], axis = 1)\n",
    "df.head()"
   ]
  },
  {
   "cell_type": "code",
   "execution_count": 20,
   "id": "8fb200a9",
   "metadata": {},
   "outputs": [
    {
     "data": {
      "image/png": "[encoded data removed]",
      "text/plain": [
       "<Figure size 1200x600 with 2 Axes>"
      ]
     },
     "metadata": {},
     "output_type": "display_data"
    }
   ],
   "source": [
    "corr = df.corr()\n",
    "matrix = np.triu(corr)\n",
    "np.fill_diagonal(matrix, False)\n",
    "figure = plt.figure(figsize=(12, 6))\n",
    "sns.heatmap(corr, annot=True,cmap=plt.cm.cool, mask=matrix)\n",
    "plt.tight_layout()\n",
    "plt.xlabel('Corr')\n",
    "plt.show()"
   ]
  },
  {
   "cell_type": "code",
   "execution_count": 21,
   "id": "c4e07398",
   "metadata": {},
   "outputs": [
    {
     "data": {
      "image/png": "[encoded data removed]",
      "text/plain": [
       "<Figure size 640x480 with 1 Axes>"
      ]
     },
     "metadata": {},
     "output_type": "display_data"
    }
   ],
   "source": [
    "sns.boxplot(df['age_years'])\n",
    "plt.title('Boxplot of Age in Years')\n",
    "plt.show()"
   ]
  },
  {
   "cell_type": "code",
   "execution_count": 22,
   "id": "e614accc",
   "metadata": {
    "scrolled": true
   },
   "outputs": [
    {
     "data": {
      "image/png": "[encoded data removed]",
      "text/plain": [
       "<Figure size 640x480 with 1 Axes>"
      ]
     },
     "metadata": {},
     "output_type": "display_data"
    },
    {
     "data": {
      "image/png": "[encoded data removed]",
      "text/plain": [
       "<Figure size 640x480 with 1 Axes>"
      ]
     },
     "metadata": {},
     "output_type": "display_data"
    }
   ],
   "source": [
    "sns.histplot(df['age_years'], kde=True, bins=30)\n",
    "plt.title('Distribution of Age in Years')\n",
    "plt.xlabel('Age (years)')\n",
    "plt.ylabel('Count')\n",
    "plt.show()\n",
    "\n",
    "sns.histplot(df['ap_hi'], kde=True, bins=30, color='skyblue')\n",
    "plt.title('Distribution of Systolic Blood Pressure')\n",
    "plt.xlabel('Systolic Blood Pressure (mmHg)')\n",
    "plt.ylabel('Count')\n",
    "plt.show()"
   ]
  },
  {
   "cell_type": "code",
   "execution_count": 23,
   "id": "ca75396c",
   "metadata": {},
   "outputs": [
    {
     "data": {
      "image/png": "[encoded data removed]",
      "text/plain": [
       "<Figure size 640x480 with 1 Axes>"
      ]
     },
     "metadata": {},
     "output_type": "display_data"
    }
   ],
   "source": [
    "# Bivariate Analysis\n",
    "sns.boxplot(x=df['cardio'], y=df['age_years'], palette='pastel', hue=df['cardio'], legend=False)\n",
    "plt.title('Age vs Cardiovascular Disease')\n",
    "plt.xlabel('Cardiovascular Disease (0: No, 1: Yes)')\n",
    "plt.ylabel('Age (years)')\n",
    "plt.show()"
   ]
  },
  {
   "cell_type": "markdown",
   "id": "c14bfa1c",
   "metadata": {},
   "source": [
    "## Modeling"
   ]
  },
  {
   "cell_type": "code",
   "execution_count": 24,
   "id": "23ae5a09",
   "metadata": {},
   "outputs": [],
   "source": [
    "X = df.drop(['cardio'], axis = 1)\n",
    "y = df['cardio']\n",
    "\n",
    "X_train, X_test, y_train, y_test = train_test_split(X, y, shuffle=True, test_size=0.20)"
   ]
  },
  {
   "cell_type": "code",
   "execution_count": 25,
   "id": "8a34b897",
   "metadata": {},
   "outputs": [
    {
     "data": {
      "text/plain": [
       "((54564, 13), (54564,), (13641, 13), (13641,))"
      ]
     },
     "execution_count": 25,
     "metadata": {},
     "output_type": "execute_result"
    }
   ],
   "source": [
    "X_train.shape, y_train.shape, X_test.shape, y_test.shape"
   ]
  },
  {
   "cell_type": "code",
   "execution_count": 26,
   "id": "2fd9cbf3",
   "metadata": {},
   "outputs": [
    {
     "data": {
      "text/plain": [
       "cardio\n",
       "0    34533\n",
       "1    33672\n",
       "Name: count, dtype: int64"
      ]
     },
     "execution_count": 26,
     "metadata": {},
     "output_type": "execute_result"
    }
   ],
   "source": [
    "y.value_counts()"
   ]
  },
  {
   "cell_type": "code",
   "execution_count": 30,
   "id": "0c5de81f",
   "metadata": {},
   "outputs": [],
   "source": [
    "# normalizer = Normalizer()\n",
    "# x_norm = normalizer.fit_transform(X)\n",
    "# X_normalized = pd.DataFrame(x_norm, columns=X.columns)\n",
    "# X_normalized"
   ]
  },
  {
   "cell_type": "code",
   "execution_count": 27,
   "id": "f593cb17",
   "metadata": {},
   "outputs": [],
   "source": [
    "ADA = AdaBoostClassifier()\n",
    "ET = ExtraTreesClassifier()\n",
    "RF = RandomForestClassifier()\n",
    "GB = GradientBoostingClassifier()\n",
    "SVM = SVC()\n",
    "NB = GaussianNB()\n",
    "KNN = KNeighborsClassifier()"
   ]
  },
  {
   "cell_type": "code",
   "execution_count": 32,
   "id": "b85ae5c9",
   "metadata": {},
   "outputs": [],
   "source": [
    "# params = {\"n_estimators\" : [10, 50, 100, 500], \n",
    "#           \"learning_rate\" : [0.0001, 0.001, 0.01, 0.1, 1.0]}\n",
    "\n",
    "# randomsearch = RandomizedSearchCV(ADA, param_distributions=params, n_jobs=-1, scoring=['accuracy', 'recall'], refit='accuracy', random_state=123)\n",
    "# search = randomsearch.fit(X_train, y_train)\n",
    "# search.best_params_\n"
   ]
  },
  {
   "cell_type": "code",
   "execution_count": 28,
   "id": "66aef1b1",
   "metadata": {},
   "outputs": [],
   "source": [
    "models = {'AdaBoost' : ADA,\n",
    "          'ExtraTrees' : ET,\n",
    "          'RandomForest' : RF,\n",
    "          'GradientBoost' : GB,\n",
    "          'SVM' : SVM,\n",
    "          'Naive Bayes' : NB,\n",
    "          'KNN' : KNN}"
   ]
  },
  {
   "cell_type": "code",
   "execution_count": 34,
   "id": "7ad1c124",
   "metadata": {},
   "outputs": [],
   "source": [
    "#rfe = RFE(estimator=SVM)\n",
    "#rfe.fit(X_train, y_train)\n",
    "#rfe.get_feature_names_out()"
   ]
  },
  {
   "cell_type": "code",
   "execution_count": 29,
   "id": "9253d735",
   "metadata": {},
   "outputs": [
    {
     "name": "stdout",
     "output_type": "stream",
     "text": [
      "AdaBoost AdaBoostClassifier()\n",
      "ExtraTrees ExtraTreesClassifier()\n",
      "RandomForest RandomForestClassifier()\n",
      "GradientBoost GradientBoostingClassifier()\n",
      "SVM SVC()\n",
      "Naive Bayes GaussianNB()\n",
      "KNN KNeighborsClassifier()\n"
     ]
    }
   ],
   "source": [
    "for key, item in models.items():\n",
    "    print(key, item)"
   ]
  },
  {
   "cell_type": "code",
   "execution_count": 30,
   "id": "b2e0d102",
   "metadata": {
    "scrolled": true
   },
   "outputs": [
    {
     "name": "stderr",
     "output_type": "stream",
     "text": [
      "100%|████████████████████████████████████████████████████████████████████████████████████| 7/7 [05:13<00:00, 44.84s/it]\n"
     ]
    }
   ],
   "source": [
    "feature_select = {}\n",
    "selected_features = SelectPercentile(chi2, percentile=50).fit(X_train, y_train)\n",
    "\n",
    "for key, item in tqdm(models.items()):\n",
    "    \n",
    "    if key in [\"SVM\" ,\"Naive Bayes\", \"KNN\"]:\n",
    "        feature_select[key] = selected_features.get_feature_names_out()\n",
    "        continue\n",
    "    try:\n",
    "        rfe = RFE(estimator=item)\n",
    "        rfe.fit(X_train, y_train)\n",
    "        feature_select[key] = rfe.get_feature_names_out()\n",
    "    except Exception as e:\n",
    "        print(e)"
   ]
  },
  {
   "cell_type": "code",
   "execution_count": 31,
   "id": "609ac14a",
   "metadata": {},
   "outputs": [
    {
     "name": "stdout",
     "output_type": "stream",
     "text": [
      "Select Percentile Feature Selection Results :\n",
      " ['weight' 'ap_hi' 'ap_lo' 'cholesterol' 'age_years' 'bmi']\n"
     ]
    }
   ],
   "source": [
    "print(\"Select Percentile Feature Selection Results :\\n\",selected_features.get_feature_names_out())"
   ]
  },
  {
   "cell_type": "code",
   "execution_count": 32,
   "id": "3e1fd440",
   "metadata": {},
   "outputs": [
    {
     "name": "stdout",
     "output_type": "stream",
     "text": [
      "AdaBoost ['weight' 'ap_hi' 'cholesterol' 'age_years' 'bmi' 'bp_category_encoded']\n",
      "ExtraTrees ['height' 'weight' 'ap_hi' 'ap_lo' 'age_years' 'bmi']\n",
      "RandomForest ['height' 'weight' 'ap_hi' 'ap_lo' 'age_years' 'bmi']\n",
      "GradientBoost ['weight' 'ap_hi' 'ap_lo' 'cholesterol' 'age_years' 'bmi']\n",
      "SVM ['weight' 'ap_hi' 'ap_lo' 'cholesterol' 'age_years' 'bmi']\n",
      "Naive Bayes ['weight' 'ap_hi' 'ap_lo' 'cholesterol' 'age_years' 'bmi']\n",
      "KNN ['weight' 'ap_hi' 'ap_lo' 'cholesterol' 'age_years' 'bmi']\n"
     ]
    }
   ],
   "source": [
    "for key, item in feature_select.items():\n",
    "    print(key, item)"
   ]
  },
  {
   "cell_type": "code",
   "execution_count": 34,
   "id": "1060e4fe",
   "metadata": {},
   "outputs": [],
   "source": [
    "from sklearn.metrics import accuracy_score, recall_score, precision_score, cohen_kappa_score,f1_score, confusion_matrix\n",
    "\n",
    "def scores(y, preds):\n",
    "    print(\"Accuracy Score is \",accuracy_score(y, preds))\n",
    "    print(\"Recall Score is \",recall_score(y, preds, average='macro'))\n",
    "    print(\"Precision Score is \",precision_score(y, preds, average='macro'))\n",
    "    print(\"Cohen Kappa Score is \",cohen_kappa_score(y, preds))\n",
    "    print(\"F1 Score is \",f1_score(y, preds, average='macro'))\n",
    "    print(\"Confusion Matrix is \\n\",confusion_matrix(y, preds))\n",
    "    \n",
    "def evaluatemodel(model, feature_list, X, y):\n",
    "    X_fs = X[feature_list]\n",
    "    preds = cross_val_predict(model, X_fs, y, cv=5, n_jobs=-1)\n",
    "    scores(y, preds)"
   ]
  },
  {
   "cell_type": "code",
   "execution_count": 35,
   "id": "30e4e0d2",
   "metadata": {
    "scrolled": true
   },
   "outputs": [
    {
     "name": "stdout",
     "output_type": "stream",
     "text": [
      "AdaBoost Evaluation: \n",
      "\n",
      "Accuracy Score is  0.7266512719008871\n",
      "Recall Score is  0.7258211197624687\n",
      "Precision Score is  0.731685196743185\n",
      "Cohen Kappa Score is  0.45236477486394844\n",
      "F1 Score is  0.7246575797810264\n",
      "Confusion Matrix is \n",
      " [[22146  5429]\n",
      " [ 9486 17503]]\n",
      "\n",
      "-------------------------------\n",
      "ExtraTrees Evaluation: \n",
      "\n",
      "Accuracy Score is  0.6760501429513965\n",
      "Recall Score is  0.6759887583225791\n",
      "Precision Score is  0.6760091863348092\n",
      "Cohen Kappa Score is  0.3519944234258694\n",
      "F1 Score is  0.6759955916602618\n",
      "Confusion Matrix is \n",
      " [[18798  8777]\n",
      " [ 8899 18090]]\n",
      "\n",
      "-------------------------------\n",
      "RandomForest Evaluation: \n",
      "\n",
      "Accuracy Score is  0.6850304229895169\n",
      "Recall Score is  0.6849255861837134\n",
      "Precision Score is  0.6850063860282806\n",
      "Cohen Kappa Score is  0.3699018517196624\n",
      "F1 Score is  0.6849381069360299\n",
      "Confusion Matrix is \n",
      " [[19156  8419]\n",
      " [ 8767 18222]]\n",
      "\n",
      "-------------------------------\n",
      "GradientBoost Evaluation: \n",
      "\n",
      "Accuracy Score is  0.7324609632724873\n",
      "Recall Score is  0.7320226221575715\n",
      "Precision Score is  0.733749440614645\n",
      "Cohen Kappa Score is  0.46442373051926666\n",
      "F1 Score is  0.731825542876291\n",
      "Confusion Matrix is \n",
      " [[21311  6264]\n",
      " [ 8334 18655]]\n",
      "\n",
      "-------------------------------\n",
      "SVM Evaluation: \n",
      "\n",
      "Accuracy Score is  0.7256066270801261\n",
      "Recall Score is  0.7245615911415104\n",
      "Precision Score is  0.7338364235843893\n",
      "Cohen Kappa Score is  0.45003529901728123\n",
      "F1 Score is  0.7225425522757077\n",
      "Confusion Matrix is \n",
      " [[22663  4912]\n",
      " [10060 16929]]\n",
      "\n",
      "-------------------------------\n",
      "Naive Bayes Evaluation: \n",
      "\n",
      "Accuracy Score is  0.717799281577597\n",
      "Recall Score is  0.7167462584316695\n",
      "Precision Score is  0.7258224925160119\n",
      "Cohen Kappa Score is  0.4343790585844367\n",
      "F1 Score is  0.7146078818727626\n",
      "Confusion Matrix is \n",
      " [[22468  5107]\n",
      " [10291 16698]]\n",
      "\n",
      "-------------------------------\n",
      "KNN Evaluation: \n",
      "\n",
      "Accuracy Score is  0.6911150208928964\n",
      "Recall Score is  0.6908612800077343\n",
      "Precision Score is  0.6913438556227199\n",
      "Cohen Kappa Score is  0.38188914750487823\n",
      "F1 Score is  0.6908170114660548\n",
      "Confusion Matrix is \n",
      " [[19702  7873]\n",
      " [ 8981 18008]]\n",
      "\n",
      "-------------------------------\n"
     ]
    }
   ],
   "source": [
    "for key, item in models.items():\n",
    "    print(f\"{key} Evaluation: \\n\")\n",
    "    evaluatemodel(item, feature_select[key], X_train, y_train)\n",
    "    print(\"\\n-------------------------------\")"
   ]
  },
  {
   "cell_type": "code",
   "execution_count": 46,
   "id": "8703c3fa",
   "metadata": {},
   "outputs": [],
   "source": [
    "from tensorflow.keras.layers import Dense, Input, Dropout, BatchNormalization\n",
    "from tensorflow.keras.models import Sequential\n",
    "from tensorflow.keras.metrics import Accuracy, Precision, Recall\n",
    "from tensorflow.keras.callbacks import ModelCheckpoint, EarlyStopping\n",
    "from tensorflow.keras.regularizers import L2\n",
    "from tensorflow.keras.utils import plot_model"
   ]
  },
  {
   "cell_type": "code",
   "execution_count": 107,
   "id": "7a393758",
   "metadata": {},
   "outputs": [],
   "source": [
    "ANN = Sequential()\n",
    "\n",
    "# Input Layer\n",
    "ANN.add(Input(shape=(13,)))\n",
    "\n",
    "# First Hidden Layer\n",
    "ANN.add(Dense(13, activation='relu'))\n",
    "#ANN.add(BatchNormalization())\n",
    "ANN.add(Dropout(0.5))\n",
    "\n",
    "ANN.add(Dense(32, activation='relu'))\n",
    "#ANN.add(BatchNormalization())\n",
    "ANN.add(Dropout(0.5))\n",
    "\n",
    "ANN.add(Dense(64, activation='relu'))\n",
    "#ANN.add(BatchNormalization())\n",
    "ANN.add(Dropout(0.5))\n",
    "\n",
    "ANN.add(Dense(16, activation='relu'))\n",
    "#ANN.add(BatchNormalization())\n",
    "ANN.add(Dropout(0.5))\n",
    "\n",
    "# Second Hidden Layer\n",
    "ANN.add(Dense(4, activation='relu'))\n",
    "#ANN.add(BatchNormalization())\n",
    "ANN.add(Dropout(0.5))\n",
    "\n",
    "# Output Layer, 1 Neuron with sigmoid for binary classification\n",
    "ANN.add(Dense(1, activation='sigmoid'))"
   ]
  },
  {
   "cell_type": "code",
   "execution_count": 108,
   "id": "88908522",
   "metadata": {},
   "outputs": [],
   "source": [
    "ANN.compile(optimizer=\"adam\",loss=\"binary_crossentropy\", metrics=['accuracy'])"
   ]
  },
  {
   "cell_type": "code",
   "execution_count": 109,
   "id": "1e28f114",
   "metadata": {},
   "outputs": [
    {
     "name": "stdout",
     "output_type": "stream",
     "text": [
      "Model: \"sequential_9\"\n",
      "_________________________________________________________________\n",
      " Layer (type)                Output Shape              Param #   \n",
      "=================================================================\n",
      " dense_27 (Dense)            (None, 13)                182       \n",
      "                                                                 \n",
      " dropout_18 (Dropout)        (None, 13)                0         \n",
      "                                                                 \n",
      " dense_28 (Dense)            (None, 32)                448       \n",
      "                                                                 \n",
      " dropout_19 (Dropout)        (None, 32)                0         \n",
      "                                                                 \n",
      " dense_29 (Dense)            (None, 64)                2112      \n",
      "                                                                 \n",
      " dropout_20 (Dropout)        (None, 64)                0         \n",
      "                                                                 \n",
      " dense_30 (Dense)            (None, 16)                1040      \n",
      "                                                                 \n",
      " dropout_21 (Dropout)        (None, 16)                0         \n",
      "                                                                 \n",
      " dense_31 (Dense)            (None, 4)                 68        \n",
      "                                                                 \n",
      " dropout_22 (Dropout)        (None, 4)                 0         \n",
      "                                                                 \n",
      " dense_32 (Dense)            (None, 1)                 5         \n",
      "                                                                 \n",
      "=================================================================\n",
      "Total params: 3,855\n",
      "Trainable params: 3,855\n",
      "Non-trainable params: 0\n",
      "_________________________________________________________________\n"
     ]
    }
   ],
   "source": [
    "ANN.summary()"
   ]
  },
  {
   "cell_type": "code",
   "execution_count": 110,
   "id": "bfad8bcc",
   "metadata": {},
   "outputs": [],
   "source": [
    "checkpoint = ModelCheckpoint(filepath='CVD_ANN-0.1.0',\n",
    "                             monitor='val_loss',\n",
    "                             save_best_only=True, \n",
    "                             verbose=1)\n",
    "\n",
    "earlystop = EarlyStopping(monitor='val_loss',\n",
    "                          patience=3)\n",
    "\n",
    "callbacks = [checkpoint, earlystop]"
   ]
  },
  {
   "cell_type": "code",
   "execution_count": 111,
   "id": "138a5f6a",
   "metadata": {},
   "outputs": [],
   "source": [
    "X_temp, ANN_X_test, y_temp, ANN_y_test = train_test_split(X, y, test_size=0.15)\n",
    "ANN_X_train, ANN_X_val, ANN_y_train, ANN_y_val = train_test_split(X_temp, y_temp, test_size=len(ANN_y_test))"
   ]
  },
  {
   "cell_type": "code",
   "execution_count": 112,
   "id": "7c446c4f",
   "metadata": {},
   "outputs": [
    {
     "name": "stdout",
     "output_type": "stream",
     "text": [
      "Training Data Shape  ((47743, 13), (47743,))\n",
      "Testing Data Shape  ((10231, 13), (10231,))\n",
      "Validation Data Shape  ((10231, 13), (10231,))\n"
     ]
    }
   ],
   "source": [
    "print(\"Training Data Shape \", (ANN_X_train.shape, ANN_y_train.shape))\n",
    "print(\"Testing Data Shape \", (ANN_X_test.shape, ANN_y_test.shape))\n",
    "print(\"Validation Data Shape \", (ANN_X_val.shape, ANN_y_val.shape))"
   ]
  },
  {
   "cell_type": "code",
   "execution_count": 113,
   "id": "e21783a1",
   "metadata": {
    "scrolled": true
   },
   "outputs": [
    {
     "name": "stdout",
     "output_type": "stream",
     "text": [
      "Epoch 1/20\n",
      "182/187 [============================>.] - ETA: 0s - loss: 1.7537 - accuracy: 0.5031\n",
      "Epoch 1: val_loss improved from inf to 0.69346, saving model to CVD_ANN-0.1.0\n",
      "INFO:tensorflow:Assets written to: CVD_ANN-0.1.0\\assets\n",
      "187/187 [==============================] - 5s 22ms/step - loss: 1.7301 - accuracy: 0.5029 - val_loss: 0.6935 - val_accuracy: 0.5004\n",
      "Epoch 2/20\n",
      "185/187 [============================>.] - ETA: 0s - loss: 0.7486 - accuracy: 0.5028\n",
      "Epoch 2: val_loss improved from 0.69346 to 0.69339, saving model to CVD_ANN-0.1.0\n",
      "INFO:tensorflow:Assets written to: CVD_ANN-0.1.0\\assets\n",
      "187/187 [==============================] - 4s 23ms/step - loss: 0.7482 - accuracy: 0.5028 - val_loss: 0.6934 - val_accuracy: 0.5004\n",
      "Epoch 3/20\n",
      "187/187 [==============================] - ETA: 0s - loss: 0.7088 - accuracy: 0.5052\n",
      "Epoch 3: val_loss improved from 0.69339 to 0.69328, saving model to CVD_ANN-0.1.0\n",
      "INFO:tensorflow:Assets written to: CVD_ANN-0.1.0\\assets\n",
      "187/187 [==============================] - 5s 29ms/step - loss: 0.7088 - accuracy: 0.5052 - val_loss: 0.6933 - val_accuracy: 0.5004\n",
      "Epoch 4/20\n",
      "182/187 [============================>.] - ETA: 0s - loss: 0.6998 - accuracy: 0.5060\n",
      "Epoch 4: val_loss improved from 0.69328 to 0.69327, saving model to CVD_ANN-0.1.0\n",
      "INFO:tensorflow:Assets written to: CVD_ANN-0.1.0\\assets\n",
      "187/187 [==============================] - 6s 32ms/step - loss: 0.6999 - accuracy: 0.5062 - val_loss: 0.6933 - val_accuracy: 0.5004\n",
      "Epoch 5/20\n",
      "181/187 [============================>.] - ETA: 0s - loss: 0.6975 - accuracy: 0.5037\n",
      "Epoch 5: val_loss improved from 0.69327 to 0.69326, saving model to CVD_ANN-0.1.0\n",
      "INFO:tensorflow:Assets written to: CVD_ANN-0.1.0\\assets\n",
      "187/187 [==============================] - 5s 27ms/step - loss: 0.6974 - accuracy: 0.5048 - val_loss: 0.6933 - val_accuracy: 0.5004\n",
      "Epoch 6/20\n",
      "180/187 [===========================>..] - ETA: 0s - loss: 0.6956 - accuracy: 0.5047\n",
      "Epoch 6: val_loss improved from 0.69326 to 0.69323, saving model to CVD_ANN-0.1.0\n",
      "INFO:tensorflow:Assets written to: CVD_ANN-0.1.0\\assets\n",
      "187/187 [==============================] - 5s 26ms/step - loss: 0.6957 - accuracy: 0.5044 - val_loss: 0.6932 - val_accuracy: 0.5004\n",
      "Epoch 7/20\n",
      "184/187 [============================>.] - ETA: 0s - loss: 0.6951 - accuracy: 0.5046\n",
      "Epoch 7: val_loss did not improve from 0.69323\n",
      "187/187 [==============================] - 1s 6ms/step - loss: 0.6951 - accuracy: 0.5047 - val_loss: 0.6933 - val_accuracy: 0.5004\n",
      "Epoch 8/20\n",
      "181/187 [============================>.] - ETA: 0s - loss: 0.6948 - accuracy: 0.5050\n",
      "Epoch 8: val_loss did not improve from 0.69323\n",
      "187/187 [==============================] - 1s 6ms/step - loss: 0.6947 - accuracy: 0.5045 - val_loss: 0.6933 - val_accuracy: 0.5004\n",
      "Epoch 9/20\n",
      "186/187 [============================>.] - ETA: 0s - loss: 0.6935 - accuracy: 0.5068\n",
      "Epoch 9: val_loss improved from 0.69323 to 0.69321, saving model to CVD_ANN-0.1.0\n",
      "INFO:tensorflow:Assets written to: CVD_ANN-0.1.0\\assets\n",
      "187/187 [==============================] - 5s 29ms/step - loss: 0.6935 - accuracy: 0.5070 - val_loss: 0.6932 - val_accuracy: 0.5004\n",
      "Epoch 10/20\n",
      "182/187 [============================>.] - ETA: 0s - loss: 0.6937 - accuracy: 0.5051\n",
      "Epoch 10: val_loss did not improve from 0.69321\n",
      "187/187 [==============================] - 1s 6ms/step - loss: 0.6937 - accuracy: 0.5054 - val_loss: 0.6932 - val_accuracy: 0.5004\n",
      "Epoch 11/20\n",
      "178/187 [===========================>..] - ETA: 0s - loss: 0.6938 - accuracy: 0.5050\n",
      "Epoch 11: val_loss improved from 0.69321 to 0.69321, saving model to CVD_ANN-0.1.0\n",
      "INFO:tensorflow:Assets written to: CVD_ANN-0.1.0\\assets\n",
      "187/187 [==============================] - 6s 30ms/step - loss: 0.6938 - accuracy: 0.5042 - val_loss: 0.6932 - val_accuracy: 0.5004\n",
      "Epoch 12/20\n",
      "181/187 [============================>.] - ETA: 0s - loss: 0.6935 - accuracy: 0.5056\n",
      "Epoch 12: val_loss did not improve from 0.69321\n",
      "187/187 [==============================] - 1s 8ms/step - loss: 0.6935 - accuracy: 0.5054 - val_loss: 0.6932 - val_accuracy: 0.5004\n",
      "Epoch 13/20\n",
      "182/187 [============================>.] - ETA: 0s - loss: 0.6933 - accuracy: 0.5055\n",
      "Epoch 13: val_loss improved from 0.69321 to 0.69318, saving model to CVD_ANN-0.1.0\n",
      "INFO:tensorflow:Assets written to: CVD_ANN-0.1.0\\assets\n",
      "187/187 [==============================] - 7s 36ms/step - loss: 0.6933 - accuracy: 0.5059 - val_loss: 0.6932 - val_accuracy: 0.5004\n",
      "Epoch 14/20\n",
      "181/187 [============================>.] - ETA: 0s - loss: 0.6933 - accuracy: 0.5054\n",
      "Epoch 14: val_loss did not improve from 0.69318\n",
      "187/187 [==============================] - 1s 7ms/step - loss: 0.6933 - accuracy: 0.5055 - val_loss: 0.6932 - val_accuracy: 0.5004\n",
      "Epoch 15/20\n",
      "187/187 [==============================] - ETA: 0s - loss: 0.6932 - accuracy: 0.5053\n",
      "Epoch 15: val_loss did not improve from 0.69318\n",
      "187/187 [==============================] - 1s 8ms/step - loss: 0.6932 - accuracy: 0.5053 - val_loss: 0.6932 - val_accuracy: 0.5004\n",
      "Epoch 16/20\n",
      "178/187 [===========================>..] - ETA: 0s - loss: 0.6931 - accuracy: 0.5053\n",
      "Epoch 16: val_loss did not improve from 0.69318\n",
      "187/187 [==============================] - 1s 7ms/step - loss: 0.6931 - accuracy: 0.5053 - val_loss: 0.6932 - val_accuracy: 0.5004\n"
     ]
    }
   ],
   "source": [
    "history = ANN.fit(x=ANN_X_train, \n",
    "                  y=ANN_y_train, \n",
    "                  batch_size=256,\n",
    "                  epochs=20,\n",
    "                  callbacks=callbacks, \n",
    "                  validation_data=(ANN_X_test, ANN_y_test))"
   ]
  },
  {
   "cell_type": "code",
   "execution_count": 120,
   "id": "3293d4a1",
   "metadata": {
    "scrolled": false
   },
   "outputs": [
    {
     "name": "stdout",
     "output_type": "stream",
     "text": [
      "Accuracy Score is  0.7242137673191115\n",
      "Recall Score is  0.7235043294546355\n",
      "Precision Score is  0.7248306569822462\n",
      "Cohen Kappa Score is  0.447543301113555\n",
      "F1 Score is  0.723528757028495\n",
      "Confusion Matrix is \n",
      " [[5279 1679]\n",
      " [2083 4600]]\n"
     ]
    }
   ],
   "source": [
    "gradientboost = GradientBoostingClassifier()\n",
    "gradientboost.fit(X_train[feature_select[\"GradientBoost\"]], y_train)\n",
    "preds = gradientboost.predict(X_test[feature_select[\"GradientBoost\"]])\n",
    "scores(y_test, preds)"
   ]
  },
  {
   "cell_type": "code",
   "execution_count": 121,
   "id": "93386bd8",
   "metadata": {},
   "outputs": [],
   "source": [
    "classes = ['Negative', 'Positive']"
   ]
  },
  {
   "cell_type": "code",
   "execution_count": 122,
   "id": "5ec30dbe",
   "metadata": {},
   "outputs": [],
   "source": [
    "with open(\"CVDclasses.txt\", \"w\") as f :\n",
    "    f.write(str(classes)) \n",
    "    f.close() "
   ]
  },
  {
   "cell_type": "code",
   "execution_count": 123,
   "id": "1c1edc84",
   "metadata": {},
   "outputs": [],
   "source": [
    "with open(\"CVDfeatures.txt\", \"w\") as f :\n",
    "    f.write(str(feature_select[\"GradientBoost\"])) \n",
    "    f.close() "
   ]
  },
  {
   "cell_type": "code",
   "execution_count": 124,
   "id": "06e0d33e",
   "metadata": {},
   "outputs": [],
   "source": [
    "import pickle"
   ]
  },
  {
   "cell_type": "code",
   "execution_count": 131,
   "id": "bbf06d8f",
   "metadata": {},
   "outputs": [],
   "source": [
    "with open('GradientBoost-0.1.0.pkl', 'wb') as f:\n",
    "    pickle.dump(gradientboost, f)"
   ]
  },
  {
   "cell_type": "code",
   "execution_count": 129,
   "id": "9614a87f",
   "metadata": {
    "scrolled": true
   },
   "outputs": [
    {
     "data": {
      "text/html": [
       "<div>\n",
       "<style scoped>\n",
       "    .dataframe tbody tr th:only-of-type {\n",
       "        vertical-align: middle;\n",
       "    }\n",
       "\n",
       "    .dataframe tbody tr th {\n",
       "        vertical-align: top;\n",
       "    }\n",
       "\n",
       "    .dataframe thead th {\n",
       "        text-align: right;\n",
       "    }\n",
       "</style>\n",
       "<table border=\"1\" class=\"dataframe\">\n",
       "  <thead>\n",
       "    <tr style=\"text-align: right;\">\n",
       "      <th></th>\n",
       "      <th>weight</th>\n",
       "      <th>ap_hi</th>\n",
       "      <th>ap_lo</th>\n",
       "      <th>cholesterol</th>\n",
       "      <th>age_years</th>\n",
       "      <th>bmi</th>\n",
       "      <th>Target</th>\n",
       "    </tr>\n",
       "  </thead>\n",
       "  <tbody>\n",
       "    <tr>\n",
       "      <th>32915</th>\n",
       "      <td>80.0</td>\n",
       "      <td>120</td>\n",
       "      <td>70</td>\n",
       "      <td>1</td>\n",
       "      <td>41.846575</td>\n",
       "      <td>27.041644</td>\n",
       "      <td>0</td>\n",
       "    </tr>\n",
       "    <tr>\n",
       "      <th>43684</th>\n",
       "      <td>77.0</td>\n",
       "      <td>120</td>\n",
       "      <td>80</td>\n",
       "      <td>2</td>\n",
       "      <td>49.734247</td>\n",
       "      <td>27.281746</td>\n",
       "      <td>1</td>\n",
       "    </tr>\n",
       "    <tr>\n",
       "      <th>63387</th>\n",
       "      <td>75.0</td>\n",
       "      <td>140</td>\n",
       "      <td>90</td>\n",
       "      <td>1</td>\n",
       "      <td>56.378082</td>\n",
       "      <td>29.296875</td>\n",
       "      <td>1</td>\n",
       "    </tr>\n",
       "    <tr>\n",
       "      <th>61073</th>\n",
       "      <td>50.0</td>\n",
       "      <td>108</td>\n",
       "      <td>73</td>\n",
       "      <td>1</td>\n",
       "      <td>51.832877</td>\n",
       "      <td>19.777699</td>\n",
       "      <td>0</td>\n",
       "    </tr>\n",
       "    <tr>\n",
       "      <th>38956</th>\n",
       "      <td>68.0</td>\n",
       "      <td>120</td>\n",
       "      <td>80</td>\n",
       "      <td>1</td>\n",
       "      <td>64.435616</td>\n",
       "      <td>23.808690</td>\n",
       "      <td>1</td>\n",
       "    </tr>\n",
       "    <tr>\n",
       "      <th>...</th>\n",
       "      <td>...</td>\n",
       "      <td>...</td>\n",
       "      <td>...</td>\n",
       "      <td>...</td>\n",
       "      <td>...</td>\n",
       "      <td>...</td>\n",
       "      <td>...</td>\n",
       "    </tr>\n",
       "    <tr>\n",
       "      <th>39237</th>\n",
       "      <td>110.0</td>\n",
       "      <td>140</td>\n",
       "      <td>90</td>\n",
       "      <td>3</td>\n",
       "      <td>59.986301</td>\n",
       "      <td>42.968750</td>\n",
       "      <td>1</td>\n",
       "    </tr>\n",
       "    <tr>\n",
       "      <th>54790</th>\n",
       "      <td>80.0</td>\n",
       "      <td>125</td>\n",
       "      <td>80</td>\n",
       "      <td>3</td>\n",
       "      <td>51.378082</td>\n",
       "      <td>31.250000</td>\n",
       "      <td>1</td>\n",
       "    </tr>\n",
       "    <tr>\n",
       "      <th>1932</th>\n",
       "      <td>70.0</td>\n",
       "      <td>120</td>\n",
       "      <td>90</td>\n",
       "      <td>1</td>\n",
       "      <td>44.054795</td>\n",
       "      <td>23.661439</td>\n",
       "      <td>0</td>\n",
       "    </tr>\n",
       "    <tr>\n",
       "      <th>15185</th>\n",
       "      <td>64.0</td>\n",
       "      <td>120</td>\n",
       "      <td>80</td>\n",
       "      <td>1</td>\n",
       "      <td>49.797260</td>\n",
       "      <td>22.675737</td>\n",
       "      <td>1</td>\n",
       "    </tr>\n",
       "    <tr>\n",
       "      <th>8886</th>\n",
       "      <td>104.0</td>\n",
       "      <td>130</td>\n",
       "      <td>90</td>\n",
       "      <td>1</td>\n",
       "      <td>43.701370</td>\n",
       "      <td>34.748906</td>\n",
       "      <td>0</td>\n",
       "    </tr>\n",
       "  </tbody>\n",
       "</table>\n",
       "<p>13641 rows × 7 columns</p>\n",
       "</div>"
      ],
      "text/plain": [
       "       weight  ap_hi  ap_lo  cholesterol  age_years        bmi  Target\n",
       "32915    80.0    120     70            1  41.846575  27.041644       0\n",
       "43684    77.0    120     80            2  49.734247  27.281746       1\n",
       "63387    75.0    140     90            1  56.378082  29.296875       1\n",
       "61073    50.0    108     73            1  51.832877  19.777699       0\n",
       "38956    68.0    120     80            1  64.435616  23.808690       1\n",
       "...       ...    ...    ...          ...        ...        ...     ...\n",
       "39237   110.0    140     90            3  59.986301  42.968750       1\n",
       "54790    80.0    125     80            3  51.378082  31.250000       1\n",
       "1932     70.0    120     90            1  44.054795  23.661439       0\n",
       "15185    64.0    120     80            1  49.797260  22.675737       1\n",
       "8886    104.0    130     90            1  43.701370  34.748906       0\n",
       "\n",
       "[13641 rows x 7 columns]"
      ]
     },
     "execution_count": 129,
     "metadata": {},
     "output_type": "execute_result"
    }
   ],
   "source": [
    "testing_data = X_test.copy()\n",
    "testing_data = testing_data[feature_select[\"GradientBoost\"]]\n",
    "testing_data[\"Target\"] = y_test \n",
    "testing_data"
   ]
  },
  {
   "cell_type": "code",
   "execution_count": 130,
   "id": "a6a86b2a",
   "metadata": {},
   "outputs": [],
   "source": [
    "testing_data.to_csv(\"Testing Data.csv\")"
   ]
  },
  {
   "cell_type": "code",
   "execution_count": null,
   "id": "f1c1fddf",
   "metadata": {},
   "outputs": [],
   "source": []
  }
 ],
 "metadata": {
  "kernelspec": {
   "display_name": "Python 3 (ipykernel)",
   "language": "python",
   "name": "python3"
  },
  "language_info": {
   "codemirror_mode": {
    "name": "ipython",
    "version": 3
   },
   "file_extension": ".py",
   "mimetype": "text/x-python",
   "name": "python",
   "nbconvert_exporter": "python",
   "pygments_lexer": "ipython3",
   "version": "3.10.13"
  }
 },
 "nbformat": 4,
 "nbformat_minor": 5
}
