{
 "cells": [
  {
   "cell_type": "code",
   "execution_count": 3,
   "id": "c80b051e",
   "metadata": {},
   "outputs": [],
   "source": [
    "import os\n",
    "import shutil\n",
    "import numpy as np\n",
    "\n",
    "rootdir= 'dataset'\n",
    "\n",
    "classes = ['COVID-19', 'Normal', 'Pneumonia']\n",
    "\n",
    "\n",
    "for i in classes:\n",
    "    os.makedirs(rootdir + '/train/' + i)\n",
    "    os.makedirs(rootdir + '/test/' + i)\n",
    "    os.makedirs(rootdir + '/validation/' + i)\n",
    "\n",
    "    source = rootdir + '/' + i\n",
    "    allFileNames = os.listdir(source)\n",
    "    np.random.shuffle(allFileNames)\n",
    "\n",
    "    # Define the ratios for train, test, and validation\n",
    "    train_ratio = 0.7\n",
    "    test_ratio = 0.15\n",
    "    validation_ratio = 0.15\n",
    "\n",
    "    train_FileNames, test_FileNames, validation_FileNames = np.split(\n",
    "        np.array(allFileNames),\n",
    "        [\n",
    "            int(len(allFileNames) * train_ratio),\n",
    "            int(len(allFileNames) * (train_ratio + test_ratio)),\n",
    "        ],\n",
    "    )\n",
    "\n",
    "    train_FileNames = [source + '/' + name for name in train_FileNames.tolist()]\n",
    "    test_FileNames = [source + '/' + name for name in test_FileNames.tolist()]\n",
    "    validation_FileNames = [\n",
    "        source + '/' + name for name in validation_FileNames.tolist()\n",
    "    ]\n",
    "\n",
    "    for name in train_FileNames:\n",
    "        shutil.copy(name, rootdir + '/train/' + i)\n",
    "    for name in test_FileNames:\n",
    "        shutil.copy(name, rootdir + '/test/' + i)\n",
    "    for name in validation_FileNames:\n",
    "        shutil.copy(name, rootdir + '/validation/' + i)\n"
   ]
  },
  {
   "cell_type": "code",
   "execution_count": 4,
   "id": "c2988b7a",
   "metadata": {},
   "outputs": [],
   "source": [
    "for i in classes:\n",
    "    os.makedirs(rootdir +'/train/' + i)\n",
    "    os.makedirs(rootdir +'/test/' + i)\n",
    "    source = rootdir + '/' + i\n",
    "    allFileNames = os.listdir(source)\n",
    "    np.random.shuffle(allFileNames)\n",
    "    test_ratio = 0.15\n",
    "    train_FileNames, test_FileNames = np.split(np.array(allFileNames),[int(len(allFileNames)* (1 - test_ratio))])\n",
    "    train_FileNames = [source+'/'+ name for name in train_FileNames.tolist()]\n",
    "    test_FileNames = [source+'/' + name for name in test_FileNames.tolist()]\n",
    "\n",
    "    for name in train_FileNames:\n",
    "        shutil.copy(name, rootdir +'/train/' + i)\n",
    "    for name in test_FileNames:\n",
    "        shutil.copy(name, rootdir +'/test/' + i)\n"
   ]
  },
  {
   "cell_type": "code",
   "execution_count": null,
   "id": "f8cb1e8a",
   "metadata": {},
   "outputs": [],
   "source": []
  }
 ],
 "metadata": {
  "kernelspec": {
   "display_name": "Python 3 (ipykernel)",
   "language": "python",
   "name": "python3"
  },
  "language_info": {
   "codemirror_mode": {
    "name": "ipython",
    "version": 3
   },
   "file_extension": ".py",
   "mimetype": "text/x-python",
   "name": "python",
   "nbconvert_exporter": "python",
   "pygments_lexer": "ipython3",
   "version": "3.10.13"
  }
 },
 "nbformat": 4,
 "nbformat_minor": 5
}
